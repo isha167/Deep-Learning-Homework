{
  "nbformat": 4,
  "nbformat_minor": 0,
  "metadata": {
    "kernelspec": {
      "display_name": "Python 3",
      "language": "python",
      "name": "python3"
    },
    "language_info": {
      "codemirror_mode": {
        "name": "ipython",
        "version": 3
      },
      "file_extension": ".py",
      "mimetype": "text/x-python",
      "name": "python",
      "nbconvert_exporter": "python",
      "pygments_lexer": "ipython3",
      "version": "3.7.6"
    },
    "colab": {
      "name": "Starter_Code.ipynb",
      "provenance": []
    }
  },
  "cells": [
    {
      "cell_type": "markdown",
      "metadata": {
        "id": "1tBMAHABmHsq"
      },
      "source": [
        "## Preprocessing"
      ]
    },
    {
      "cell_type": "code",
      "metadata": {
        "colab": {
          "base_uri": "https://localhost:8080/",
          "height": 327
        },
        "id": "HLIcEldUmHsw",
        "outputId": "fe2297fc-0d52-4f90-e879-94a01200d3c4"
      },
      "source": [
        "# Import our dependencies\n",
        "from sklearn.model_selection import train_test_split\n",
        "from sklearn.preprocessing import StandardScaler\n",
        "import pandas as pd\n",
        "import tensorflow as tf\n",
        "\n",
        "#  Import and read the charity_data.csv.\n",
        "import pandas as pd \n",
        "application_df = pd.read_csv(\"/content/charity_data.csv\")\n",
        "application_df.head()"
      ],
      "execution_count": 1,
      "outputs": [
        {
          "output_type": "execute_result",
          "data": {
            "text/html": [
              "<div>\n",
              "<style scoped>\n",
              "    .dataframe tbody tr th:only-of-type {\n",
              "        vertical-align: middle;\n",
              "    }\n",
              "\n",
              "    .dataframe tbody tr th {\n",
              "        vertical-align: top;\n",
              "    }\n",
              "\n",
              "    .dataframe thead th {\n",
              "        text-align: right;\n",
              "    }\n",
              "</style>\n",
              "<table border=\"1\" class=\"dataframe\">\n",
              "  <thead>\n",
              "    <tr style=\"text-align: right;\">\n",
              "      <th></th>\n",
              "      <th>EIN</th>\n",
              "      <th>NAME</th>\n",
              "      <th>APPLICATION_TYPE</th>\n",
              "      <th>AFFILIATION</th>\n",
              "      <th>CLASSIFICATION</th>\n",
              "      <th>USE_CASE</th>\n",
              "      <th>ORGANIZATION</th>\n",
              "      <th>STATUS</th>\n",
              "      <th>INCOME_AMT</th>\n",
              "      <th>SPECIAL_CONSIDERATIONS</th>\n",
              "      <th>ASK_AMT</th>\n",
              "      <th>IS_SUCCESSFUL</th>\n",
              "    </tr>\n",
              "  </thead>\n",
              "  <tbody>\n",
              "    <tr>\n",
              "      <th>0</th>\n",
              "      <td>10520599</td>\n",
              "      <td>BLUE KNIGHTS MOTORCYCLE CLUB</td>\n",
              "      <td>T10</td>\n",
              "      <td>Independent</td>\n",
              "      <td>C1000</td>\n",
              "      <td>ProductDev</td>\n",
              "      <td>Association</td>\n",
              "      <td>1</td>\n",
              "      <td>0</td>\n",
              "      <td>N</td>\n",
              "      <td>5000</td>\n",
              "      <td>1</td>\n",
              "    </tr>\n",
              "    <tr>\n",
              "      <th>1</th>\n",
              "      <td>10531628</td>\n",
              "      <td>AMERICAN CHESAPEAKE CLUB CHARITABLE TR</td>\n",
              "      <td>T3</td>\n",
              "      <td>Independent</td>\n",
              "      <td>C2000</td>\n",
              "      <td>Preservation</td>\n",
              "      <td>Co-operative</td>\n",
              "      <td>1</td>\n",
              "      <td>1-9999</td>\n",
              "      <td>N</td>\n",
              "      <td>108590</td>\n",
              "      <td>1</td>\n",
              "    </tr>\n",
              "    <tr>\n",
              "      <th>2</th>\n",
              "      <td>10547893</td>\n",
              "      <td>ST CLOUD PROFESSIONAL FIREFIGHTERS</td>\n",
              "      <td>T5</td>\n",
              "      <td>CompanySponsored</td>\n",
              "      <td>C3000</td>\n",
              "      <td>ProductDev</td>\n",
              "      <td>Association</td>\n",
              "      <td>1</td>\n",
              "      <td>0</td>\n",
              "      <td>N</td>\n",
              "      <td>5000</td>\n",
              "      <td>0</td>\n",
              "    </tr>\n",
              "    <tr>\n",
              "      <th>3</th>\n",
              "      <td>10553066</td>\n",
              "      <td>SOUTHSIDE ATHLETIC ASSOCIATION</td>\n",
              "      <td>T3</td>\n",
              "      <td>CompanySponsored</td>\n",
              "      <td>C2000</td>\n",
              "      <td>Preservation</td>\n",
              "      <td>Trust</td>\n",
              "      <td>1</td>\n",
              "      <td>10000-24999</td>\n",
              "      <td>N</td>\n",
              "      <td>6692</td>\n",
              "      <td>1</td>\n",
              "    </tr>\n",
              "    <tr>\n",
              "      <th>4</th>\n",
              "      <td>10556103</td>\n",
              "      <td>GENETIC RESEARCH INSTITUTE OF THE DESERT</td>\n",
              "      <td>T3</td>\n",
              "      <td>Independent</td>\n",
              "      <td>C1000</td>\n",
              "      <td>Heathcare</td>\n",
              "      <td>Trust</td>\n",
              "      <td>1</td>\n",
              "      <td>100000-499999</td>\n",
              "      <td>N</td>\n",
              "      <td>142590</td>\n",
              "      <td>1</td>\n",
              "    </tr>\n",
              "  </tbody>\n",
              "</table>\n",
              "</div>"
            ],
            "text/plain": [
              "        EIN                                      NAME  ... ASK_AMT IS_SUCCESSFUL\n",
              "0  10520599              BLUE KNIGHTS MOTORCYCLE CLUB  ...    5000             1\n",
              "1  10531628    AMERICAN CHESAPEAKE CLUB CHARITABLE TR  ...  108590             1\n",
              "2  10547893        ST CLOUD PROFESSIONAL FIREFIGHTERS  ...    5000             0\n",
              "3  10553066            SOUTHSIDE ATHLETIC ASSOCIATION  ...    6692             1\n",
              "4  10556103  GENETIC RESEARCH INSTITUTE OF THE DESERT  ...  142590             1\n",
              "\n",
              "[5 rows x 12 columns]"
            ]
          },
          "metadata": {},
          "execution_count": 1
        }
      ]
    },
    {
      "cell_type": "code",
      "metadata": {
        "colab": {
          "base_uri": "https://localhost:8080/",
          "height": 363
        },
        "id": "6KcD3LrbmHsy",
        "outputId": "b45c277e-81f5-42dc-819d-1379b79d955e"
      },
      "source": [
        "# Drop the non-beneficial ID columns, 'EIN' and 'NAME'.\n",
        "application_df = application_df.drop(columns=['EIN','NAME'])\n",
        "application_df.head(10)"
      ],
      "execution_count": 2,
      "outputs": [
        {
          "output_type": "execute_result",
          "data": {
            "text/html": [
              "<div>\n",
              "<style scoped>\n",
              "    .dataframe tbody tr th:only-of-type {\n",
              "        vertical-align: middle;\n",
              "    }\n",
              "\n",
              "    .dataframe tbody tr th {\n",
              "        vertical-align: top;\n",
              "    }\n",
              "\n",
              "    .dataframe thead th {\n",
              "        text-align: right;\n",
              "    }\n",
              "</style>\n",
              "<table border=\"1\" class=\"dataframe\">\n",
              "  <thead>\n",
              "    <tr style=\"text-align: right;\">\n",
              "      <th></th>\n",
              "      <th>APPLICATION_TYPE</th>\n",
              "      <th>AFFILIATION</th>\n",
              "      <th>CLASSIFICATION</th>\n",
              "      <th>USE_CASE</th>\n",
              "      <th>ORGANIZATION</th>\n",
              "      <th>STATUS</th>\n",
              "      <th>INCOME_AMT</th>\n",
              "      <th>SPECIAL_CONSIDERATIONS</th>\n",
              "      <th>ASK_AMT</th>\n",
              "      <th>IS_SUCCESSFUL</th>\n",
              "    </tr>\n",
              "  </thead>\n",
              "  <tbody>\n",
              "    <tr>\n",
              "      <th>0</th>\n",
              "      <td>T10</td>\n",
              "      <td>Independent</td>\n",
              "      <td>C1000</td>\n",
              "      <td>ProductDev</td>\n",
              "      <td>Association</td>\n",
              "      <td>1</td>\n",
              "      <td>0</td>\n",
              "      <td>N</td>\n",
              "      <td>5000</td>\n",
              "      <td>1</td>\n",
              "    </tr>\n",
              "    <tr>\n",
              "      <th>1</th>\n",
              "      <td>T3</td>\n",
              "      <td>Independent</td>\n",
              "      <td>C2000</td>\n",
              "      <td>Preservation</td>\n",
              "      <td>Co-operative</td>\n",
              "      <td>1</td>\n",
              "      <td>1-9999</td>\n",
              "      <td>N</td>\n",
              "      <td>108590</td>\n",
              "      <td>1</td>\n",
              "    </tr>\n",
              "    <tr>\n",
              "      <th>2</th>\n",
              "      <td>T5</td>\n",
              "      <td>CompanySponsored</td>\n",
              "      <td>C3000</td>\n",
              "      <td>ProductDev</td>\n",
              "      <td>Association</td>\n",
              "      <td>1</td>\n",
              "      <td>0</td>\n",
              "      <td>N</td>\n",
              "      <td>5000</td>\n",
              "      <td>0</td>\n",
              "    </tr>\n",
              "    <tr>\n",
              "      <th>3</th>\n",
              "      <td>T3</td>\n",
              "      <td>CompanySponsored</td>\n",
              "      <td>C2000</td>\n",
              "      <td>Preservation</td>\n",
              "      <td>Trust</td>\n",
              "      <td>1</td>\n",
              "      <td>10000-24999</td>\n",
              "      <td>N</td>\n",
              "      <td>6692</td>\n",
              "      <td>1</td>\n",
              "    </tr>\n",
              "    <tr>\n",
              "      <th>4</th>\n",
              "      <td>T3</td>\n",
              "      <td>Independent</td>\n",
              "      <td>C1000</td>\n",
              "      <td>Heathcare</td>\n",
              "      <td>Trust</td>\n",
              "      <td>1</td>\n",
              "      <td>100000-499999</td>\n",
              "      <td>N</td>\n",
              "      <td>142590</td>\n",
              "      <td>1</td>\n",
              "    </tr>\n",
              "    <tr>\n",
              "      <th>5</th>\n",
              "      <td>T3</td>\n",
              "      <td>Independent</td>\n",
              "      <td>C1200</td>\n",
              "      <td>Preservation</td>\n",
              "      <td>Trust</td>\n",
              "      <td>1</td>\n",
              "      <td>0</td>\n",
              "      <td>N</td>\n",
              "      <td>5000</td>\n",
              "      <td>1</td>\n",
              "    </tr>\n",
              "    <tr>\n",
              "      <th>6</th>\n",
              "      <td>T3</td>\n",
              "      <td>Independent</td>\n",
              "      <td>C1000</td>\n",
              "      <td>Preservation</td>\n",
              "      <td>Trust</td>\n",
              "      <td>1</td>\n",
              "      <td>100000-499999</td>\n",
              "      <td>N</td>\n",
              "      <td>31452</td>\n",
              "      <td>1</td>\n",
              "    </tr>\n",
              "    <tr>\n",
              "      <th>7</th>\n",
              "      <td>T3</td>\n",
              "      <td>Independent</td>\n",
              "      <td>C2000</td>\n",
              "      <td>Preservation</td>\n",
              "      <td>Trust</td>\n",
              "      <td>1</td>\n",
              "      <td>10M-50M</td>\n",
              "      <td>N</td>\n",
              "      <td>7508025</td>\n",
              "      <td>1</td>\n",
              "    </tr>\n",
              "    <tr>\n",
              "      <th>8</th>\n",
              "      <td>T7</td>\n",
              "      <td>Independent</td>\n",
              "      <td>C1000</td>\n",
              "      <td>ProductDev</td>\n",
              "      <td>Trust</td>\n",
              "      <td>1</td>\n",
              "      <td>1-9999</td>\n",
              "      <td>N</td>\n",
              "      <td>94389</td>\n",
              "      <td>1</td>\n",
              "    </tr>\n",
              "    <tr>\n",
              "      <th>9</th>\n",
              "      <td>T5</td>\n",
              "      <td>CompanySponsored</td>\n",
              "      <td>C3000</td>\n",
              "      <td>ProductDev</td>\n",
              "      <td>Association</td>\n",
              "      <td>1</td>\n",
              "      <td>0</td>\n",
              "      <td>N</td>\n",
              "      <td>5000</td>\n",
              "      <td>0</td>\n",
              "    </tr>\n",
              "  </tbody>\n",
              "</table>\n",
              "</div>"
            ],
            "text/plain": [
              "  APPLICATION_TYPE       AFFILIATION  ...  ASK_AMT IS_SUCCESSFUL\n",
              "0              T10       Independent  ...     5000             1\n",
              "1               T3       Independent  ...   108590             1\n",
              "2               T5  CompanySponsored  ...     5000             0\n",
              "3               T3  CompanySponsored  ...     6692             1\n",
              "4               T3       Independent  ...   142590             1\n",
              "5               T3       Independent  ...     5000             1\n",
              "6               T3       Independent  ...    31452             1\n",
              "7               T3       Independent  ...  7508025             1\n",
              "8               T7       Independent  ...    94389             1\n",
              "9               T5  CompanySponsored  ...     5000             0\n",
              "\n",
              "[10 rows x 10 columns]"
            ]
          },
          "metadata": {},
          "execution_count": 2
        }
      ]
    },
    {
      "cell_type": "code",
      "metadata": {
        "colab": {
          "base_uri": "https://localhost:8080/"
        },
        "id": "vUC07nxpmHsz",
        "outputId": "7618bfc2-d29b-4775-d97a-3a4ced05aebf"
      },
      "source": [
        "# Determine the number of unique values in each column.\n",
        "application_df.nunique()"
      ],
      "execution_count": 3,
      "outputs": [
        {
          "output_type": "execute_result",
          "data": {
            "text/plain": [
              "APPLICATION_TYPE            17\n",
              "AFFILIATION                  6\n",
              "CLASSIFICATION              71\n",
              "USE_CASE                     5\n",
              "ORGANIZATION                 4\n",
              "STATUS                       2\n",
              "INCOME_AMT                   9\n",
              "SPECIAL_CONSIDERATIONS       2\n",
              "ASK_AMT                   8747\n",
              "IS_SUCCESSFUL                2\n",
              "dtype: int64"
            ]
          },
          "metadata": {},
          "execution_count": 3
        }
      ]
    },
    {
      "cell_type": "code",
      "metadata": {
        "colab": {
          "base_uri": "https://localhost:8080/"
        },
        "id": "qILkNSDEmHsz",
        "outputId": "720e071f-a598-4e72-926f-3137603bd94b"
      },
      "source": [
        "# Look at APPLICATION_TYPE value counts for binning\n",
        "application_df['APPLICATION_TYPE'].value_counts()"
      ],
      "execution_count": 4,
      "outputs": [
        {
          "output_type": "execute_result",
          "data": {
            "text/plain": [
              "T3     27037\n",
              "T4      1542\n",
              "T6      1216\n",
              "T5      1173\n",
              "T19     1065\n",
              "T8       737\n",
              "T7       725\n",
              "T10      528\n",
              "T9       156\n",
              "T13       66\n",
              "T12       27\n",
              "T2        16\n",
              "T25        3\n",
              "T14        3\n",
              "T15        2\n",
              "T29        2\n",
              "T17        1\n",
              "Name: APPLICATION_TYPE, dtype: int64"
            ]
          },
          "metadata": {},
          "execution_count": 4
        }
      ]
    },
    {
      "cell_type": "code",
      "metadata": {
        "colab": {
          "base_uri": "https://localhost:8080/"
        },
        "id": "_jTLgUFamHs0",
        "outputId": "c9e2c643-f6c0-4935-87c5-0489c54bf060"
      },
      "source": [
        "# Choose a cutoff value and create a list of application types to be replaced\n",
        "# use the variable name `application_types_to_replace`\n",
        "application_types_to_replace = ['T17', 'T29', 'T15', 'T25', 'T14', 'T2', 'T12', 'T13', 'T9']\n",
        "\n",
        "# Replace in dataframe\n",
        "for app in application_types_to_replace:\n",
        "    application_df['APPLICATION_TYPE'] = application_df['APPLICATION_TYPE'].replace(app,\"Other\")\n",
        "\n",
        "# Check to make sure binning was successful\n",
        "application_df['APPLICATION_TYPE'].value_counts()"
      ],
      "execution_count": 5,
      "outputs": [
        {
          "output_type": "execute_result",
          "data": {
            "text/plain": [
              "T3       27037\n",
              "T4        1542\n",
              "T6        1216\n",
              "T5        1173\n",
              "T19       1065\n",
              "T8         737\n",
              "T7         725\n",
              "T10        528\n",
              "Other      276\n",
              "Name: APPLICATION_TYPE, dtype: int64"
            ]
          },
          "metadata": {},
          "execution_count": 5
        }
      ]
    },
    {
      "cell_type": "code",
      "metadata": {
        "colab": {
          "base_uri": "https://localhost:8080/"
        },
        "id": "zjjDvAsrmHs0",
        "outputId": "7588dbb5-9362-4880-f957-5446487c97aa"
      },
      "source": [
        "# Look at CLASSIFICATION value counts for binning\n",
        "application_df['CLASSIFICATION'].value_counts()"
      ],
      "execution_count": 6,
      "outputs": [
        {
          "output_type": "execute_result",
          "data": {
            "text/plain": [
              "C1000    17326\n",
              "C2000     6074\n",
              "C1200     4837\n",
              "C3000     1918\n",
              "C2100     1883\n",
              "         ...  \n",
              "C3700        1\n",
              "C2500        1\n",
              "C1732        1\n",
              "C1236        1\n",
              "C1570        1\n",
              "Name: CLASSIFICATION, Length: 71, dtype: int64"
            ]
          },
          "metadata": {},
          "execution_count": 6
        }
      ]
    },
    {
      "cell_type": "code",
      "metadata": {
        "colab": {
          "base_uri": "https://localhost:8080/"
        },
        "id": "ouLiUIwAmHs1",
        "outputId": "50949230-50f1-4cb8-cdf2-7e73e99ab124"
      },
      "source": [
        "# You may find it helpful to look at CLASSIFICATION value counts >1\n",
        "app_count = application_df['CLASSIFICATION'].value_counts()\n",
        "app_count_new = app_count[app_count >1]\n",
        "app_count_new"
      ],
      "execution_count": 7,
      "outputs": [
        {
          "output_type": "execute_result",
          "data": {
            "text/plain": [
              "C1000    17326\n",
              "C2000     6074\n",
              "C1200     4837\n",
              "C3000     1918\n",
              "C2100     1883\n",
              "C7000      777\n",
              "C1700      287\n",
              "C4000      194\n",
              "C5000      116\n",
              "C1270      114\n",
              "C2700      104\n",
              "C2800       95\n",
              "C7100       75\n",
              "C1300       58\n",
              "C1280       50\n",
              "C1230       36\n",
              "C1400       34\n",
              "C2300       32\n",
              "C7200       32\n",
              "C1240       30\n",
              "C8000       20\n",
              "C7120       18\n",
              "C1500       16\n",
              "C1800       15\n",
              "C6000       15\n",
              "C1250       14\n",
              "C8200       11\n",
              "C1278       10\n",
              "C1238       10\n",
              "C1237        9\n",
              "C1235        9\n",
              "C7210        7\n",
              "C4100        6\n",
              "C1720        6\n",
              "C2400        6\n",
              "C1257        5\n",
              "C1600        5\n",
              "C1260        3\n",
              "C2710        3\n",
              "C0           3\n",
              "C1246        2\n",
              "C1267        2\n",
              "C3200        2\n",
              "C1256        2\n",
              "C1234        2\n",
              "Name: CLASSIFICATION, dtype: int64"
            ]
          },
          "metadata": {},
          "execution_count": 7
        }
      ]
    },
    {
      "cell_type": "code",
      "metadata": {
        "colab": {
          "base_uri": "https://localhost:8080/"
        },
        "id": "grV7uU1YmHs2",
        "outputId": "cc5286f8-b416-4a0a-f29e-815665f6b7d0"
      },
      "source": [
        "# Choose a cutoff value and create a list of classifications to be replaced\n",
        "# use the variable name `classifications_to_replace`\n",
        "classifications_to_replace = app_count[app_count <800].index\n",
        "\n",
        "# Replace in dataframe\n",
        "for cls in classifications_to_replace:\n",
        "    application_df['CLASSIFICATION'] = application_df['CLASSIFICATION'].replace(cls,\"Other\")\n",
        "    \n",
        "# Check to make sure binning was successful\n",
        "application_df['CLASSIFICATION'].value_counts()"
      ],
      "execution_count": 8,
      "outputs": [
        {
          "output_type": "execute_result",
          "data": {
            "text/plain": [
              "C1000    17326\n",
              "C2000     6074\n",
              "C1200     4837\n",
              "Other     2261\n",
              "C3000     1918\n",
              "C2100     1883\n",
              "Name: CLASSIFICATION, dtype: int64"
            ]
          },
          "metadata": {},
          "execution_count": 8
        }
      ]
    },
    {
      "cell_type": "code",
      "metadata": {
        "colab": {
          "base_uri": "https://localhost:8080/"
        },
        "id": "YmXFhoC-mHs3",
        "outputId": "88aa9369-5f0d-4e7c-a26b-bd6fbe276f31"
      },
      "source": [
        "# Convert categorical data to numeric with `pd.get_dummies`\n",
        "app_dummies = pd.get_dummies(application_df)\n",
        "app_dummies.dtypes"
      ],
      "execution_count": 9,
      "outputs": [
        {
          "output_type": "execute_result",
          "data": {
            "text/plain": [
              "STATUS                          int64\n",
              "ASK_AMT                         int64\n",
              "IS_SUCCESSFUL                   int64\n",
              "APPLICATION_TYPE_Other          uint8\n",
              "APPLICATION_TYPE_T10            uint8\n",
              "APPLICATION_TYPE_T19            uint8\n",
              "APPLICATION_TYPE_T3             uint8\n",
              "APPLICATION_TYPE_T4             uint8\n",
              "APPLICATION_TYPE_T5             uint8\n",
              "APPLICATION_TYPE_T6             uint8\n",
              "APPLICATION_TYPE_T7             uint8\n",
              "APPLICATION_TYPE_T8             uint8\n",
              "AFFILIATION_CompanySponsored    uint8\n",
              "AFFILIATION_Family/Parent       uint8\n",
              "AFFILIATION_Independent         uint8\n",
              "AFFILIATION_National            uint8\n",
              "AFFILIATION_Other               uint8\n",
              "AFFILIATION_Regional            uint8\n",
              "CLASSIFICATION_C1000            uint8\n",
              "CLASSIFICATION_C1200            uint8\n",
              "CLASSIFICATION_C2000            uint8\n",
              "CLASSIFICATION_C2100            uint8\n",
              "CLASSIFICATION_C3000            uint8\n",
              "CLASSIFICATION_Other            uint8\n",
              "USE_CASE_CommunityServ          uint8\n",
              "USE_CASE_Heathcare              uint8\n",
              "USE_CASE_Other                  uint8\n",
              "USE_CASE_Preservation           uint8\n",
              "USE_CASE_ProductDev             uint8\n",
              "ORGANIZATION_Association        uint8\n",
              "ORGANIZATION_Co-operative       uint8\n",
              "ORGANIZATION_Corporation        uint8\n",
              "ORGANIZATION_Trust              uint8\n",
              "INCOME_AMT_0                    uint8\n",
              "INCOME_AMT_1-9999               uint8\n",
              "INCOME_AMT_10000-24999          uint8\n",
              "INCOME_AMT_100000-499999        uint8\n",
              "INCOME_AMT_10M-50M              uint8\n",
              "INCOME_AMT_1M-5M                uint8\n",
              "INCOME_AMT_25000-99999          uint8\n",
              "INCOME_AMT_50M+                 uint8\n",
              "INCOME_AMT_5M-10M               uint8\n",
              "SPECIAL_CONSIDERATIONS_N        uint8\n",
              "SPECIAL_CONSIDERATIONS_Y        uint8\n",
              "dtype: object"
            ]
          },
          "metadata": {},
          "execution_count": 9
        }
      ]
    },
    {
      "cell_type": "code",
      "metadata": {
        "id": "dr8_jeMimHs3"
      },
      "source": [
        "# Split our preprocessed data into our features and target arrays\n",
        "target_app = app_dummies['IS_SUCCESSFUL']\n",
        "feature_app = app_dummies.drop('IS_SUCCESSFUL', axis=1)\n",
        "\n",
        "# Split the preprocessed data into a training and testing dataset\n",
        "(X_train, X_test, y_train, y_test) = train_test_split(feature_app, target_app, random_state=1)"
      ],
      "execution_count": 10,
      "outputs": []
    },
    {
      "cell_type": "code",
      "metadata": {
        "id": "wCkPsfQMmHs4"
      },
      "source": [
        "# Create a StandardScaler instances\n",
        "scaler = StandardScaler()\n",
        "\n",
        "# Fit the StandardScaler\n",
        "X_scaler = scaler.fit(X_train)\n",
        "\n",
        "# Scale the data\n",
        "X_train_scaled = X_scaler.transform(X_train)\n",
        "X_test_scaled = X_scaler.transform(X_test)"
      ],
      "execution_count": 11,
      "outputs": []
    },
    {
      "cell_type": "code",
      "metadata": {
        "colab": {
          "base_uri": "https://localhost:8080/"
        },
        "id": "92ektQPp5kQN",
        "outputId": "08cdf6ff-5847-420c-a75f-911fc9f1c4db"
      },
      "source": [
        "# Get shape of df to determine number of features\n",
        "X_train.shape"
      ],
      "execution_count": 21,
      "outputs": [
        {
          "output_type": "execute_result",
          "data": {
            "text/plain": [
              "(25724, 43)"
            ]
          },
          "metadata": {},
          "execution_count": 21
        }
      ]
    },
    {
      "cell_type": "markdown",
      "metadata": {
        "id": "ySpYTXiymHs4"
      },
      "source": [
        "## Compile, Train and Evaluate the Model"
      ]
    },
    {
      "cell_type": "code",
      "metadata": {
        "colab": {
          "base_uri": "https://localhost:8080/"
        },
        "id": "5mcf_tftmHs4",
        "outputId": "c6774085-23c9-451c-a230-8b1c445667ff"
      },
      "source": [
        "# Define the model - deep neural net, i.e., the number of input features and hidden nodes for each layer.\n",
        "\n",
        "nn = tf.keras.models.Sequential()\n",
        "\n",
        "# First hidden layer\n",
        "nn.add(tf.keras.layers.Dense(units=10, activation=\"relu\", input_dim=43))\n",
        "\n",
        "# Second hidden layer\n",
        "nn.add(tf.keras.layers.Dense(units=5, activation=\"relu\"))\n",
        "\n",
        "# Output layer\n",
        "nn.add(tf.keras.layers.Dense(units=1, activation=\"sigmoid\"))\n",
        "\n",
        "# Check the structure of the model\n",
        "nn.summary()"
      ],
      "execution_count": 22,
      "outputs": [
        {
          "output_type": "stream",
          "name": "stdout",
          "text": [
            "Model: \"sequential_2\"\n",
            "_________________________________________________________________\n",
            " Layer (type)                Output Shape              Param #   \n",
            "=================================================================\n",
            " dense_6 (Dense)             (None, 10)                440       \n",
            "                                                                 \n",
            " dense_7 (Dense)             (None, 5)                 55        \n",
            "                                                                 \n",
            " dense_8 (Dense)             (None, 1)                 6         \n",
            "                                                                 \n",
            "=================================================================\n",
            "Total params: 501\n",
            "Trainable params: 501\n",
            "Non-trainable params: 0\n",
            "_________________________________________________________________\n"
          ]
        }
      ]
    },
    {
      "cell_type": "code",
      "metadata": {
        "id": "2iYGYeZsmHs5"
      },
      "source": [
        "# Compile the model\n",
        "nn.compile(loss=\"binary_crossentropy\", optimizer=\"adam\", metrics=[\"accuracy\", \"AUC\"],steps_per_execution=None)"
      ],
      "execution_count": 23,
      "outputs": []
    },
    {
      "cell_type": "code",
      "metadata": {
        "colab": {
          "base_uri": "https://localhost:8080/"
        },
        "id": "nbyjjpmumHs5",
        "outputId": "ba0de03f-4f98-409e-d81f-7a76a59a6dc7"
      },
      "source": [
        "# Train the model\n",
        "# Set callback\n",
        "filepath = 'charity_model_{epoch:02d}.hdf5'\n",
        "checkpoint = tf.keras.callbacks.ModelCheckpoint(filepath=filepath, \n",
        "                             monitor='accuracy',\n",
        "                             save_weights_only=True,\n",
        "                             save_freq=5)\n",
        "callbacks = [checkpoint]\n",
        "\n",
        "# Train the model\n",
        "fit_output = nn.fit(X_train_scaled, y_train, epochs=20, callbacks=callbacks)"
      ],
      "execution_count": 24,
      "outputs": [
        {
          "output_type": "stream",
          "name": "stdout",
          "text": [
            "Epoch 1/20\n",
            "804/804 [==============================] - 3s 3ms/step - loss: 0.6159 - accuracy: 0.6902 - auc: 0.7302\n",
            "Epoch 2/20\n",
            "804/804 [==============================] - 3s 3ms/step - loss: 0.5644 - accuracy: 0.7256 - auc: 0.7755\n",
            "Epoch 3/20\n",
            "804/804 [==============================] - 3s 3ms/step - loss: 0.5576 - accuracy: 0.7282 - auc: 0.7805\n",
            "Epoch 4/20\n",
            "804/804 [==============================] - 3s 3ms/step - loss: 0.5551 - accuracy: 0.7280 - auc: 0.7828\n",
            "Epoch 5/20\n",
            "804/804 [==============================] - 3s 3ms/step - loss: 0.5536 - accuracy: 0.7294 - auc: 0.7843\n",
            "Epoch 6/20\n",
            "804/804 [==============================] - 3s 3ms/step - loss: 0.5525 - accuracy: 0.7295 - auc: 0.7853\n",
            "Epoch 7/20\n",
            "804/804 [==============================] - 3s 3ms/step - loss: 0.5519 - accuracy: 0.7293 - auc: 0.7855\n",
            "Epoch 8/20\n",
            "804/804 [==============================] - 3s 3ms/step - loss: 0.5511 - accuracy: 0.7289 - auc: 0.7860\n",
            "Epoch 9/20\n",
            "804/804 [==============================] - 3s 3ms/step - loss: 0.5507 - accuracy: 0.7301 - auc: 0.7863\n",
            "Epoch 10/20\n",
            "804/804 [==============================] - 3s 3ms/step - loss: 0.5499 - accuracy: 0.7304 - auc: 0.7872\n",
            "Epoch 11/20\n",
            "804/804 [==============================] - 3s 3ms/step - loss: 0.5497 - accuracy: 0.7307 - auc: 0.7869\n",
            "Epoch 12/20\n",
            "804/804 [==============================] - 3s 3ms/step - loss: 0.5492 - accuracy: 0.7312 - auc: 0.7878\n",
            "Epoch 13/20\n",
            "804/804 [==============================] - 3s 3ms/step - loss: 0.5490 - accuracy: 0.7316 - auc: 0.7882\n",
            "Epoch 14/20\n",
            "804/804 [==============================] - 3s 3ms/step - loss: 0.5485 - accuracy: 0.7306 - auc: 0.7886\n",
            "Epoch 15/20\n",
            "804/804 [==============================] - 2s 3ms/step - loss: 0.5483 - accuracy: 0.7311 - auc: 0.7884\n",
            "Epoch 16/20\n",
            "804/804 [==============================] - 2s 3ms/step - loss: 0.5480 - accuracy: 0.7317 - auc: 0.7889\n",
            "Epoch 17/20\n",
            "804/804 [==============================] - 2s 3ms/step - loss: 0.5472 - accuracy: 0.7317 - auc: 0.7897\n",
            "Epoch 18/20\n",
            "804/804 [==============================] - 3s 3ms/step - loss: 0.5475 - accuracy: 0.7330 - auc: 0.7893\n",
            "Epoch 19/20\n",
            "804/804 [==============================] - 3s 3ms/step - loss: 0.5472 - accuracy: 0.7329 - auc: 0.7892\n",
            "Epoch 20/20\n",
            "804/804 [==============================] - 3s 3ms/step - loss: 0.5471 - accuracy: 0.7319 - auc: 0.7893\n"
          ]
        }
      ]
    },
    {
      "cell_type": "code",
      "metadata": {
        "colab": {
          "base_uri": "https://localhost:8080/"
        },
        "id": "77bNREzgmHs5",
        "outputId": "d4b3e358-cce3-49db-c2fb-f81307eca05b"
      },
      "source": [
        "# Evaluate the model using the test data\n",
        "model_loss, model_accuracy, model_AUC = nn.evaluate(X_test_scaled,y_test,verbose=2)\n",
        "print(f\"Loss: {model_loss}, Accuracy: {model_accuracy}, AUC: {model_AUC}\")"
      ],
      "execution_count": 26,
      "outputs": [
        {
          "output_type": "stream",
          "name": "stdout",
          "text": [
            "268/268 - 0s - loss: 0.5542 - accuracy: 0.7297 - auc: 0.7834 - 250ms/epoch - 932us/step\n",
            "Loss: 0.5541788339614868, Accuracy: 0.72967928647995, AUC: 0.7833645343780518\n"
          ]
        }
      ]
    },
    {
      "cell_type": "markdown",
      "metadata": {
        "id": "8BP8ynKJ68_o"
      },
      "source": [
        "# **Optimizing the Model**"
      ]
    },
    {
      "cell_type": "code",
      "metadata": {
        "colab": {
          "base_uri": "https://localhost:8080/"
        },
        "id": "YmpnJsCI62m7",
        "outputId": "b62ffd0f-e9d8-457a-b4f3-342290c7acd7"
      },
      "source": [
        "# Changing the number of epochs to optimize\n",
        "# Train the model\n",
        "# Set callback\n",
        "filepath = 'charity_model_{epoch:02d}.hdf5'\n",
        "checkpoint = tf.keras.callbacks.ModelCheckpoint(filepath=filepath, \n",
        "                             monitor='accuracy',\n",
        "                             save_weights_only=True,\n",
        "                             save_freq=5)\n",
        "callbacks = [checkpoint]\n",
        "\n",
        "# Train the model\n",
        "fit_output = nn.fit(X_train_scaled, y_train, epochs=35, callbacks=callbacks)"
      ],
      "execution_count": 28,
      "outputs": [
        {
          "output_type": "stream",
          "name": "stdout",
          "text": [
            "Epoch 1/35\n",
            "804/804 [==============================] - 3s 3ms/step - loss: 0.5442 - accuracy: 0.7341 - auc: 0.7919\n",
            "Epoch 2/35\n",
            "804/804 [==============================] - 3s 3ms/step - loss: 0.5441 - accuracy: 0.7346 - auc: 0.7922\n",
            "Epoch 3/35\n",
            "804/804 [==============================] - 3s 3ms/step - loss: 0.5443 - accuracy: 0.7347 - auc: 0.7921\n",
            "Epoch 4/35\n",
            "804/804 [==============================] - 3s 3ms/step - loss: 0.5440 - accuracy: 0.7354 - auc: 0.7924\n",
            "Epoch 5/35\n",
            "804/804 [==============================] - 3s 3ms/step - loss: 0.5443 - accuracy: 0.7348 - auc: 0.7921\n",
            "Epoch 6/35\n",
            "804/804 [==============================] - 3s 3ms/step - loss: 0.5438 - accuracy: 0.7343 - auc: 0.7923\n",
            "Epoch 7/35\n",
            "804/804 [==============================] - 2s 3ms/step - loss: 0.5440 - accuracy: 0.7347 - auc: 0.7920\n",
            "Epoch 8/35\n",
            "804/804 [==============================] - 3s 3ms/step - loss: 0.5436 - accuracy: 0.7345 - auc: 0.7928\n",
            "Epoch 9/35\n",
            "804/804 [==============================] - 2s 3ms/step - loss: 0.5440 - accuracy: 0.7344 - auc: 0.7923\n",
            "Epoch 10/35\n",
            "804/804 [==============================] - 2s 3ms/step - loss: 0.5438 - accuracy: 0.7349 - auc: 0.7928\n",
            "Epoch 11/35\n",
            "804/804 [==============================] - 2s 3ms/step - loss: 0.5436 - accuracy: 0.7353 - auc: 0.7927\n",
            "Epoch 12/35\n",
            "804/804 [==============================] - 3s 3ms/step - loss: 0.5437 - accuracy: 0.7340 - auc: 0.7928\n",
            "Epoch 13/35\n",
            "804/804 [==============================] - 2s 3ms/step - loss: 0.5437 - accuracy: 0.7345 - auc: 0.7928\n",
            "Epoch 14/35\n",
            "804/804 [==============================] - 2s 3ms/step - loss: 0.5438 - accuracy: 0.7350 - auc: 0.7922\n",
            "Epoch 15/35\n",
            "804/804 [==============================] - 2s 3ms/step - loss: 0.5436 - accuracy: 0.7339 - auc: 0.7927\n",
            "Epoch 16/35\n",
            "804/804 [==============================] - 2s 3ms/step - loss: 0.5440 - accuracy: 0.7347 - auc: 0.7920\n",
            "Epoch 17/35\n",
            "804/804 [==============================] - 2s 3ms/step - loss: 0.5434 - accuracy: 0.7347 - auc: 0.7929\n",
            "Epoch 18/35\n",
            "804/804 [==============================] - 2s 3ms/step - loss: 0.5433 - accuracy: 0.7352 - auc: 0.7927\n",
            "Epoch 19/35\n",
            "804/804 [==============================] - 2s 3ms/step - loss: 0.5435 - accuracy: 0.7350 - auc: 0.7924\n",
            "Epoch 20/35\n",
            "804/804 [==============================] - 2s 3ms/step - loss: 0.5433 - accuracy: 0.7350 - auc: 0.7931\n",
            "Epoch 21/35\n",
            "804/804 [==============================] - 2s 3ms/step - loss: 0.5434 - accuracy: 0.7345 - auc: 0.7929\n",
            "Epoch 22/35\n",
            "804/804 [==============================] - 3s 3ms/step - loss: 0.5434 - accuracy: 0.7351 - auc: 0.7927\n",
            "Epoch 23/35\n",
            "804/804 [==============================] - 2s 3ms/step - loss: 0.5435 - accuracy: 0.7349 - auc: 0.7931\n",
            "Epoch 24/35\n",
            "804/804 [==============================] - 2s 3ms/step - loss: 0.5432 - accuracy: 0.7357 - auc: 0.7927\n",
            "Epoch 25/35\n",
            "804/804 [==============================] - 3s 3ms/step - loss: 0.5431 - accuracy: 0.7346 - auc: 0.7933\n",
            "Epoch 26/35\n",
            "804/804 [==============================] - 3s 3ms/step - loss: 0.5434 - accuracy: 0.7349 - auc: 0.7930\n",
            "Epoch 27/35\n",
            "804/804 [==============================] - 3s 3ms/step - loss: 0.5432 - accuracy: 0.7341 - auc: 0.7933\n",
            "Epoch 28/35\n",
            "804/804 [==============================] - 3s 3ms/step - loss: 0.5432 - accuracy: 0.7350 - auc: 0.7931\n",
            "Epoch 29/35\n",
            "804/804 [==============================] - 2s 3ms/step - loss: 0.5432 - accuracy: 0.7355 - auc: 0.7931\n",
            "Epoch 30/35\n",
            "804/804 [==============================] - 2s 3ms/step - loss: 0.5432 - accuracy: 0.7355 - auc: 0.7932\n",
            "Epoch 31/35\n",
            "804/804 [==============================] - 2s 3ms/step - loss: 0.5432 - accuracy: 0.7350 - auc: 0.7932\n",
            "Epoch 32/35\n",
            "804/804 [==============================] - 2s 3ms/step - loss: 0.5433 - accuracy: 0.7351 - auc: 0.7930\n",
            "Epoch 33/35\n",
            "804/804 [==============================] - 3s 3ms/step - loss: 0.5431 - accuracy: 0.7351 - auc: 0.7932\n",
            "Epoch 34/35\n",
            "804/804 [==============================] - 3s 3ms/step - loss: 0.5431 - accuracy: 0.7345 - auc: 0.7930\n",
            "Epoch 35/35\n",
            "804/804 [==============================] - 3s 3ms/step - loss: 0.5429 - accuracy: 0.7353 - auc: 0.7933\n"
          ]
        }
      ]
    },
    {
      "cell_type": "code",
      "metadata": {
        "id": "B6Q01L8i67fI"
      },
      "source": [
        ""
      ],
      "execution_count": null,
      "outputs": []
    },
    {
      "cell_type": "code",
      "metadata": {
        "colab": {
          "base_uri": "https://localhost:8080/"
        },
        "id": "fcmoTTT783ig",
        "outputId": "e7de3b8a-42f7-44a9-e6bc-52d07ee86cd1"
      },
      "source": [
        "# Optimizing model to get better accuracy\n",
        "# Define the model - deep neural net, i.e., the number of input features and hidden nodes for each layer.\n",
        "\n",
        "nn1 = tf.keras.models.Sequential()\n",
        "\n",
        "# First hidden layer\n",
        "nn1.add(tf.keras.layers.Dense(units=10, activation=\"relu\", input_dim=43))\n",
        "\n",
        "# Second hidden layer\n",
        "nn1.add(tf.keras.layers.Dense(units=10, activation=\"relu\"))\n",
        "\n",
        "# Output layer\n",
        "nn1.add(tf.keras.layers.Dense(units=1, activation=\"sigmoid\"))\n",
        "\n",
        "# Check the structure of the model\n",
        "nn1.summary()"
      ],
      "execution_count": 29,
      "outputs": [
        {
          "output_type": "stream",
          "name": "stdout",
          "text": [
            "Model: \"sequential_3\"\n",
            "_________________________________________________________________\n",
            " Layer (type)                Output Shape              Param #   \n",
            "=================================================================\n",
            " dense_9 (Dense)             (None, 10)                440       \n",
            "                                                                 \n",
            " dense_10 (Dense)            (None, 10)                110       \n",
            "                                                                 \n",
            " dense_11 (Dense)            (None, 1)                 11        \n",
            "                                                                 \n",
            "=================================================================\n",
            "Total params: 561\n",
            "Trainable params: 561\n",
            "Non-trainable params: 0\n",
            "_________________________________________________________________\n"
          ]
        }
      ]
    },
    {
      "cell_type": "code",
      "metadata": {
        "id": "9Xl5EE7y9bAQ"
      },
      "source": [
        "# Compile the model\n",
        "nn1.compile(loss=\"binary_crossentropy\", optimizer=\"adam\", metrics=[\"accuracy\", \"AUC\"],steps_per_execution=None)"
      ],
      "execution_count": 31,
      "outputs": []
    },
    {
      "cell_type": "code",
      "metadata": {
        "colab": {
          "base_uri": "https://localhost:8080/"
        },
        "id": "bO8et7GI9RYh",
        "outputId": "3b92023f-f734-4a85-89a0-0cb2d0f6d743"
      },
      "source": [
        "# Train the model\n",
        "# Set callback\n",
        "filepath = 'charity_model_{epoch:02d}.hdf5'\n",
        "checkpoint = tf.keras.callbacks.ModelCheckpoint(filepath=filepath, \n",
        "                             monitor='accuracy',\n",
        "                             save_weights_only=True,\n",
        "                             save_freq=5)\n",
        "callbacks = [checkpoint]\n",
        "\n",
        "# Train the model\n",
        "fit_output = nn1.fit(X_train_scaled, y_train, epochs=35, callbacks=callbacks)"
      ],
      "execution_count": 32,
      "outputs": [
        {
          "output_type": "stream",
          "name": "stdout",
          "text": [
            "Epoch 1/35\n",
            "804/804 [==============================] - 4s 3ms/step - loss: 0.6018 - accuracy: 0.6981 - auc: 0.7387\n",
            "Epoch 2/35\n",
            "804/804 [==============================] - 3s 3ms/step - loss: 0.5678 - accuracy: 0.7229 - auc: 0.7716\n",
            "Epoch 3/35\n",
            "804/804 [==============================] - 3s 3ms/step - loss: 0.5614 - accuracy: 0.7261 - auc: 0.7775\n",
            "Epoch 4/35\n",
            "804/804 [==============================] - 3s 3ms/step - loss: 0.5585 - accuracy: 0.7259 - auc: 0.7795\n",
            "Epoch 5/35\n",
            "804/804 [==============================] - 3s 3ms/step - loss: 0.5567 - accuracy: 0.7262 - auc: 0.7812\n",
            "Epoch 6/35\n",
            "804/804 [==============================] - 3s 3ms/step - loss: 0.5552 - accuracy: 0.7258 - auc: 0.7824\n",
            "Epoch 7/35\n",
            "804/804 [==============================] - 2s 3ms/step - loss: 0.5534 - accuracy: 0.7278 - auc: 0.7844\n",
            "Epoch 8/35\n",
            "804/804 [==============================] - 3s 3ms/step - loss: 0.5521 - accuracy: 0.7290 - auc: 0.7856\n",
            "Epoch 9/35\n",
            "804/804 [==============================] - 3s 3ms/step - loss: 0.5511 - accuracy: 0.7310 - auc: 0.7857\n",
            "Epoch 10/35\n",
            "804/804 [==============================] - 3s 3ms/step - loss: 0.5504 - accuracy: 0.7316 - auc: 0.7865\n",
            "Epoch 11/35\n",
            "804/804 [==============================] - 3s 3ms/step - loss: 0.5493 - accuracy: 0.7322 - auc: 0.7878\n",
            "Epoch 12/35\n",
            "804/804 [==============================] - 3s 3ms/step - loss: 0.5493 - accuracy: 0.7313 - auc: 0.7873\n",
            "Epoch 13/35\n",
            "804/804 [==============================] - 3s 3ms/step - loss: 0.5490 - accuracy: 0.7318 - auc: 0.7875\n",
            "Epoch 14/35\n",
            "804/804 [==============================] - 3s 3ms/step - loss: 0.5486 - accuracy: 0.7309 - auc: 0.7882\n",
            "Epoch 15/35\n",
            "804/804 [==============================] - 3s 3ms/step - loss: 0.5483 - accuracy: 0.7320 - auc: 0.7883\n",
            "Epoch 16/35\n",
            "804/804 [==============================] - 3s 3ms/step - loss: 0.5479 - accuracy: 0.7323 - auc: 0.7886\n",
            "Epoch 17/35\n",
            "804/804 [==============================] - 3s 3ms/step - loss: 0.5478 - accuracy: 0.7317 - auc: 0.7889\n",
            "Epoch 18/35\n",
            "804/804 [==============================] - 3s 3ms/step - loss: 0.5476 - accuracy: 0.7314 - auc: 0.7892\n",
            "Epoch 19/35\n",
            "804/804 [==============================] - 3s 3ms/step - loss: 0.5474 - accuracy: 0.7333 - auc: 0.7891\n",
            "Epoch 20/35\n",
            "804/804 [==============================] - 3s 3ms/step - loss: 0.5472 - accuracy: 0.7330 - auc: 0.7892\n",
            "Epoch 21/35\n",
            "804/804 [==============================] - 2s 3ms/step - loss: 0.5469 - accuracy: 0.7315 - auc: 0.7897\n",
            "Epoch 22/35\n",
            "804/804 [==============================] - 3s 3ms/step - loss: 0.5470 - accuracy: 0.7329 - auc: 0.7893\n",
            "Epoch 23/35\n",
            "804/804 [==============================] - 3s 3ms/step - loss: 0.5468 - accuracy: 0.7328 - auc: 0.7895\n",
            "Epoch 24/35\n",
            "804/804 [==============================] - 3s 3ms/step - loss: 0.5465 - accuracy: 0.7327 - auc: 0.7906\n",
            "Epoch 25/35\n",
            "804/804 [==============================] - 3s 3ms/step - loss: 0.5464 - accuracy: 0.7332 - auc: 0.7900\n",
            "Epoch 26/35\n",
            "804/804 [==============================] - 3s 3ms/step - loss: 0.5468 - accuracy: 0.7340 - auc: 0.7892\n",
            "Epoch 27/35\n",
            "804/804 [==============================] - 3s 3ms/step - loss: 0.5465 - accuracy: 0.7341 - auc: 0.7898\n",
            "Epoch 28/35\n",
            "804/804 [==============================] - 3s 3ms/step - loss: 0.5462 - accuracy: 0.7315 - auc: 0.7897\n",
            "Epoch 29/35\n",
            "804/804 [==============================] - 2s 3ms/step - loss: 0.5464 - accuracy: 0.7326 - auc: 0.7897\n",
            "Epoch 30/35\n",
            "804/804 [==============================] - 2s 3ms/step - loss: 0.5460 - accuracy: 0.7339 - auc: 0.7905\n",
            "Epoch 31/35\n",
            "804/804 [==============================] - 2s 3ms/step - loss: 0.5457 - accuracy: 0.7339 - auc: 0.7904\n",
            "Epoch 32/35\n",
            "804/804 [==============================] - 3s 3ms/step - loss: 0.5458 - accuracy: 0.7341 - auc: 0.7905\n",
            "Epoch 33/35\n",
            "804/804 [==============================] - 3s 3ms/step - loss: 0.5459 - accuracy: 0.7338 - auc: 0.7901\n",
            "Epoch 34/35\n",
            "804/804 [==============================] - 3s 3ms/step - loss: 0.5455 - accuracy: 0.7340 - auc: 0.7908\n",
            "Epoch 35/35\n",
            "804/804 [==============================] - 3s 3ms/step - loss: 0.5452 - accuracy: 0.7342 - auc: 0.7912\n"
          ]
        }
      ]
    },
    {
      "cell_type": "code",
      "metadata": {
        "colab": {
          "base_uri": "https://localhost:8080/"
        },
        "id": "BM94yXPh-f9-",
        "outputId": "50adde0a-2c3b-4cf5-d3a3-008a12bd5bfb"
      },
      "source": [
        "# Evaluate the model using the test data\n",
        "model_loss, model_accuracy, model_AUC = nn1.evaluate(X_test_scaled,y_test,verbose=2)\n",
        "print(f\"Loss: {model_loss}, Accuracy: {model_accuracy}, AUC: {model_AUC}\")"
      ],
      "execution_count": 33,
      "outputs": [
        {
          "output_type": "stream",
          "name": "stdout",
          "text": [
            "268/268 - 0s - loss: 0.5560 - accuracy: 0.7254 - auc: 0.7823 - 479ms/epoch - 2ms/step\n",
            "Loss: 0.5560177564620972, Accuracy: 0.7253644466400146, AUC: 0.7822777032852173\n"
          ]
        }
      ]
    },
    {
      "cell_type": "code",
      "metadata": {
        "id": "f6cPvceKmHs5"
      },
      "source": [
        "# Export our model to HDF5 file\n",
        "# Export our model to HDF5 file\n",
        "nn.save('AlphabetSoupCharity.h5')"
      ],
      "execution_count": 19,
      "outputs": []
    },
    {
      "cell_type": "markdown",
      "metadata": {
        "id": "Q_N9smOy-pXA"
      },
      "source": [
        "Even after trying to optimize the model the maximum accuracy I could achieve was 73.53"
      ]
    },
    {
      "cell_type": "code",
      "metadata": {
        "id": "dY3TtJ0q--lR"
      },
      "source": [
        ""
      ],
      "execution_count": null,
      "outputs": []
    }
  ]
}